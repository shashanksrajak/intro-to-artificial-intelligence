{
  "nbformat": 4,
  "nbformat_minor": 0,
  "metadata": {
    "colab": {
      "provenance": [],
      "authorship_tag": "ABX9TyNLapzjfMFlNI+ozLoXU+ht",
      "include_colab_link": true
    },
    "kernelspec": {
      "name": "python3",
      "display_name": "Python 3"
    },
    "language_info": {
      "name": "python"
    }
  },
  "cells": [
    {
      "cell_type": "markdown",
      "metadata": {
        "id": "view-in-github",
        "colab_type": "text"
      },
      "source": [
        "<a href=\"https://colab.research.google.com/github/shashanksrajak/intro-to-artificial-intelligence/blob/main/1_search_problem_solution.ipynb\" target=\"_parent\"><img src=\"https://colab.research.google.com/assets/colab-badge.svg\" alt=\"Open In Colab\"/></a>"
      ]
    },
    {
      "cell_type": "code",
      "execution_count": null,
      "metadata": {
        "id": "2k1n_YIzt4pb"
      },
      "outputs": [],
      "source": []
    },
    {
      "cell_type": "code",
      "source": [
        "class Node:\n",
        "  def __init__(self, state, parent, action) -> None:\n",
        "    self.state = state\n",
        "    self.parent = parent\n",
        "    self.action = action\n",
        "\n",
        "\n",
        "class StackFrontier:\n",
        "  def __init__(self) -> None:\n",
        "    self.frontier = []\n",
        "\n",
        "  def add(self, node):\n",
        "    self.frontier.append(node)\n",
        "\n",
        "  def contains_state(self, state):\n",
        "    return any(node.state == state for node in self.frontier)\n",
        "\n",
        "  def empty(self):\n",
        "    return len(self.frontier) == 0\n",
        "\n",
        "  def remove(self):\n",
        "    if self.empty():\n",
        "      raise Exception(\"empty frontier\")\n",
        "    else:\n",
        "      node = self.frontier.pop()\n",
        "      return node\n",
        "\n",
        "class QueueFrontier(StackFrontier):\n",
        "  def remove(self):\n",
        "    if self.empty():\n",
        "      raise Exception(\"empty frontier\")\n",
        "    else:\n",
        "      node = self.frontier[0]\n",
        "      self.frontier = self.frontier[1:]\n",
        "      return node\n",
        "\n",
        "\n",
        "class Maze:\n",
        "\n",
        "  def __init__(self) -> None:\n",
        "    pass"
      ],
      "metadata": {
        "id": "F04c2CXAt_lI"
      },
      "execution_count": null,
      "outputs": []
    }
  ]
}